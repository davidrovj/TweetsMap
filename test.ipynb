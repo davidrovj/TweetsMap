{
 "cells": [
  {
   "cell_type": "code",
   "execution_count": 4,
   "metadata": {},
   "outputs": [],
   "source": [
    "import json\n",
    "import tweepy\n",
    "from tweepy import Stream\n",
    "from tweepy import OAuthHandler\n",
    "#from tweepy.streaming import StreamListener\n",
    "from credentials import *"
   ]
  },
  {
   "cell_type": "code",
   "execution_count": 11,
   "metadata": {},
   "outputs": [
    {
     "name": "stdout",
     "output_type": "stream",
     "text": [
      "authenticated\n"
     ]
    }
   ],
   "source": [
    "\"\"\"Establecer acceso a la API de Twitter.\"\"\"\n",
    "CONSUMER_KEY = \"uvcMjAH4FJglTG8QS9zlpJC01\"\n",
    "CONSUMER_SECRET = 'Ed2c2FhXzpHFagbfTVb3gTnziNTQ3hDk0UDRiiraPfupO5At0s'\n",
    "ACCESS_TOKEN = \"1442475234913775619-hKJkC4Pp3N0ztkvGAue6niVGtra8YZ\"\n",
    "ACCESS_SECRET = \"QqW0LjrlYr1YrkllT1RhMbi4LmUvARaecltG6HTzAobUf\"\n",
    "\n",
    "auth = tweepy.OAuthHandler(CONSUMER_KEY, CONSUMER_SECRET)\n",
    "auth.set_access_token(ACCESS_TOKEN, ACCESS_SECRET)\n",
    "api = tweepy.API(auth)\n",
    "print(\"authenticated\")"
   ]
  },
  {
   "cell_type": "code",
   "execution_count": 7,
   "metadata": {},
   "outputs": [],
   "source": [
    "tampico_madero = [-97.87777, 22.28519, -96.87777, 23.28519, -97.83623, 22.27228, -96.83623, 23.27228]"
   ]
  },
  {
   "cell_type": "markdown",
   "metadata": {},
   "source": [
    "CONVERTIR TWEETS"
   ]
  },
  {
   "cell_type": "code",
   "execution_count": 12,
   "metadata": {},
   "outputs": [],
   "source": [
    "import pandas as pd\n",
    "import numpy as np"
   ]
  },
  {
   "cell_type": "code",
   "execution_count": 39,
   "metadata": {},
   "outputs": [
    {
     "data": {
      "text/html": [
       "<div>\n",
       "<style scoped>\n",
       "    .dataframe tbody tr th:only-of-type {\n",
       "        vertical-align: middle;\n",
       "    }\n",
       "\n",
       "    .dataframe tbody tr th {\n",
       "        vertical-align: top;\n",
       "    }\n",
       "\n",
       "    .dataframe thead th {\n",
       "        text-align: right;\n",
       "    }\n",
       "</style>\n",
       "<table border=\"1\" class=\"dataframe\">\n",
       "  <thead>\n",
       "    <tr style=\"text-align: right;\">\n",
       "      <th></th>\n",
       "      <th>0</th>\n",
       "    </tr>\n",
       "  </thead>\n",
       "  <tbody>\n",
       "    <tr>\n",
       "      <th>0</th>\n",
       "      <td>2020-07-22 16:43:58-05:00,@dnkdxpe,@yedidgdr T...</td>\n",
       "    </tr>\n",
       "    <tr>\n",
       "      <th>1</th>\n",
       "      <td>2020-07-22 16:45:11-05:00,@laura_armz,Otro día...</td>\n",
       "    </tr>\n",
       "    <tr>\n",
       "      <th>2</th>\n",
       "      <td>2020-07-22 16:45:22-05:00,@_UnJaibo,Entro a IG...</td>\n",
       "    </tr>\n",
       "    <tr>\n",
       "      <th>3</th>\n",
       "      <td>2020-07-22 16:46:53-05:00,@JoseWiedmer,Mi abue...</td>\n",
       "    </tr>\n",
       "    <tr>\n",
       "      <th>4</th>\n",
       "      <td>2020-07-22 16:50:47-05:00,@taniakarinagon,Quie...</td>\n",
       "    </tr>\n",
       "    <tr>\n",
       "      <th>...</th>\n",
       "      <td>...</td>\n",
       "    </tr>\n",
       "    <tr>\n",
       "      <th>2044</th>\n",
       "      <td>2020-08-20 15:10:09-05:00,@theuniongap,@Marcel...</td>\n",
       "    </tr>\n",
       "    <tr>\n",
       "      <th>2045</th>\n",
       "      <td>2020-08-20 15:11:14-05:00,@ViVaMaderV,@lebudin...</td>\n",
       "    </tr>\n",
       "    <tr>\n",
       "      <th>2046</th>\n",
       "      <td>2020-08-20 15:12:34-05:00,@MartinMaggot23,@Die...</td>\n",
       "    </tr>\n",
       "    <tr>\n",
       "      <th>2047</th>\n",
       "      <td>2020-08-20 15:13:26-05:00,@gabs_nmo,\"Mood de h...</td>\n",
       "    </tr>\n",
       "    <tr>\n",
       "      <th>2048</th>\n",
       "      <td>2020-08-20 15:14:32-05:00,@adolfox7,@LaExpresi...</td>\n",
       "    </tr>\n",
       "  </tbody>\n",
       "</table>\n",
       "<p>2049 rows × 1 columns</p>\n",
       "</div>"
      ],
      "text/plain": [
       "                                                      0\n",
       "0     2020-07-22 16:43:58-05:00,@dnkdxpe,@yedidgdr T...\n",
       "1     2020-07-22 16:45:11-05:00,@laura_armz,Otro día...\n",
       "2     2020-07-22 16:45:22-05:00,@_UnJaibo,Entro a IG...\n",
       "3     2020-07-22 16:46:53-05:00,@JoseWiedmer,Mi abue...\n",
       "4     2020-07-22 16:50:47-05:00,@taniakarinagon,Quie...\n",
       "...                                                 ...\n",
       "2044  2020-08-20 15:10:09-05:00,@theuniongap,@Marcel...\n",
       "2045  2020-08-20 15:11:14-05:00,@ViVaMaderV,@lebudin...\n",
       "2046  2020-08-20 15:12:34-05:00,@MartinMaggot23,@Die...\n",
       "2047  2020-08-20 15:13:26-05:00,@gabs_nmo,\"Mood de h...\n",
       "2048  2020-08-20 15:14:32-05:00,@adolfox7,@LaExpresi...\n",
       "\n",
       "[2049 rows x 1 columns]"
      ]
     },
     "execution_count": 39,
     "metadata": {},
     "output_type": "execute_result"
    }
   ],
   "source": [
    "tweets_raw = pd.read_table('C:/Users/jdroj/Downloads/BigData/TweetsMap/tweets_tampico_madero.csv', header = None, iterator=False)\n",
    "tweets_2 = pd.DataFrame()\n",
    "tweets_raw"
   ]
  },
  {
   "cell_type": "code",
   "execution_count": null,
   "metadata": {},
   "outputs": [],
   "source": [
    "#stamp = Timestamp('1/1/2014 16:20', tz='America/Sao_Paulo')\n",
    "#new_stamp = stamp.tz_convert('US/Eastern')"
   ]
  },
  {
   "cell_type": "code",
   "execution_count": 40,
   "metadata": {},
   "outputs": [
    {
     "ename": "AttributeError",
     "evalue": "'DataFrame' object has no attribute 'get_chunk'",
     "output_type": "error",
     "traceback": [
      "\u001b[1;31m---------------------------------------------------------------------------\u001b[0m",
      "\u001b[1;31mAttributeError\u001b[0m                            Traceback (most recent call last)",
      "\u001b[1;32m~\\AppData\\Local\\Temp/ipykernel_9412/2231187646.py\u001b[0m in \u001b[0;36m<module>\u001b[1;34m\u001b[0m\n\u001b[0;32m      2\u001b[0m     \u001b[1;31m#Debido a que el archivo de texto de los tweets es demasiado grande\u001b[0m\u001b[1;33m\u001b[0m\u001b[1;33m\u001b[0m\u001b[1;33m\u001b[0m\u001b[0m\n\u001b[0;32m      3\u001b[0m     \u001b[1;31m#debe de ser procesado por chunks en lugar de cargar todo el archivo en memoria\u001b[0m\u001b[1;33m\u001b[0m\u001b[1;33m\u001b[0m\u001b[1;33m\u001b[0m\u001b[0m\n\u001b[1;32m----> 4\u001b[1;33m     \u001b[0mtweets\u001b[0m \u001b[1;33m=\u001b[0m \u001b[0mtweets_raw\u001b[0m\u001b[1;33m.\u001b[0m\u001b[0mget_chunk\u001b[0m\u001b[1;33m(\u001b[0m\u001b[1;36m500\u001b[0m\u001b[1;33m)\u001b[0m \u001b[1;31m#1000 filas por chunk\u001b[0m\u001b[1;33m\u001b[0m\u001b[1;33m\u001b[0m\u001b[0m\n\u001b[0m\u001b[0;32m      5\u001b[0m     \u001b[0mtweets\u001b[0m\u001b[1;33m.\u001b[0m\u001b[0mcolumns\u001b[0m \u001b[1;33m=\u001b[0m \u001b[1;33m[\u001b[0m\u001b[1;34m'tweets'\u001b[0m\u001b[1;33m]\u001b[0m\u001b[1;33m\u001b[0m\u001b[1;33m\u001b[0m\u001b[0m\n\u001b[0;32m      6\u001b[0m     \u001b[0mtweets\u001b[0m\u001b[1;33m[\u001b[0m\u001b[1;34m'len'\u001b[0m\u001b[1;33m]\u001b[0m \u001b[1;33m=\u001b[0m \u001b[0mtweets\u001b[0m\u001b[1;33m.\u001b[0m\u001b[0mtweets\u001b[0m\u001b[1;33m.\u001b[0m\u001b[0mapply\u001b[0m\u001b[1;33m(\u001b[0m\u001b[1;32mlambda\u001b[0m \u001b[0mx\u001b[0m\u001b[1;33m:\u001b[0m \u001b[0mlen\u001b[0m\u001b[1;33m(\u001b[0m\u001b[0mx\u001b[0m\u001b[1;33m.\u001b[0m\u001b[0msplit\u001b[0m\u001b[1;33m(\u001b[0m\u001b[1;34m'|'\u001b[0m\u001b[1;33m)\u001b[0m\u001b[1;33m)\u001b[0m\u001b[1;33m)\u001b[0m\u001b[1;33m\u001b[0m\u001b[1;33m\u001b[0m\u001b[0m\n",
      "\u001b[1;32mc:\\Users\\jdroj\\Downloads\\BigData\\TweetsMap\\env\\lib\\site-packages\\pandas\\core\\generic.py\u001b[0m in \u001b[0;36m__getattr__\u001b[1;34m(self, name)\u001b[0m\n\u001b[0;32m   5485\u001b[0m         ):\n\u001b[0;32m   5486\u001b[0m             \u001b[1;32mreturn\u001b[0m \u001b[0mself\u001b[0m\u001b[1;33m[\u001b[0m\u001b[0mname\u001b[0m\u001b[1;33m]\u001b[0m\u001b[1;33m\u001b[0m\u001b[1;33m\u001b[0m\u001b[0m\n\u001b[1;32m-> 5487\u001b[1;33m         \u001b[1;32mreturn\u001b[0m \u001b[0mobject\u001b[0m\u001b[1;33m.\u001b[0m\u001b[0m__getattribute__\u001b[0m\u001b[1;33m(\u001b[0m\u001b[0mself\u001b[0m\u001b[1;33m,\u001b[0m \u001b[0mname\u001b[0m\u001b[1;33m)\u001b[0m\u001b[1;33m\u001b[0m\u001b[1;33m\u001b[0m\u001b[0m\n\u001b[0m\u001b[0;32m   5488\u001b[0m \u001b[1;33m\u001b[0m\u001b[0m\n\u001b[0;32m   5489\u001b[0m     \u001b[1;32mdef\u001b[0m \u001b[0m__setattr__\u001b[0m\u001b[1;33m(\u001b[0m\u001b[0mself\u001b[0m\u001b[1;33m,\u001b[0m \u001b[0mname\u001b[0m\u001b[1;33m:\u001b[0m \u001b[0mstr\u001b[0m\u001b[1;33m,\u001b[0m \u001b[0mvalue\u001b[0m\u001b[1;33m)\u001b[0m \u001b[1;33m->\u001b[0m \u001b[1;32mNone\u001b[0m\u001b[1;33m:\u001b[0m\u001b[1;33m\u001b[0m\u001b[1;33m\u001b[0m\u001b[0m\n",
      "\u001b[1;31mAttributeError\u001b[0m: 'DataFrame' object has no attribute 'get_chunk'"
     ]
    }
   ],
   "source": [
    "while 1:\n",
    "    #Debido a que el archivo de texto de los tweets es demasiado grande\n",
    "    #debe de ser procesado por chunks en lugar de cargar todo el archivo en memoria\n",
    "    tweets = tweets_raw.get_chunk(500) #1000 filas por chunk\n",
    "    tweets.columns = ['tweets']\n",
    "    tweets['len'] = tweets.tweets.apply(lambda x: len(x.split('|')))\n",
    "    tweets[tweets.len < 4] = np.nan\n",
    "    del tweets['len']\n",
    "    tweets = tweets[tweets.tweets.notnull()]    \n",
    "    \n",
    "    #Establecer las columnas y valores que tomarán\n",
    "    tweets['user'] = tweets.tweets.apply(lambda x: x.split('|')[0])\n",
    "    tweets['geo'] = tweets.tweets.apply(lambda x: x.split('|')[1])\n",
    "    tweets['timestamp'] = tweets.tweets.apply(lambda x: x.split('|')[2])\n",
    "    tweets['tweet'] = tweets.tweets.apply(lambda x: x.split('|')[3])\n",
    "    tweets['lat'] = tweets.geo.apply(lambda x: x.split(',')[0].replace('[',''))\n",
    "    tweets['lon'] = tweets.geo.apply(lambda x: x.split(',')[1].replace(']',''))\n",
    "    del tweets['tweets']\n",
    "    del tweets['geo']\n",
    "    \n",
    "    #Convertir las latitudes y longitudes de string a float\n",
    "    tweets['lon'] = pd.to_numeric(tweets['lon'], downcast=\"float\")\n",
    "    tweets['lat'] = pd.to_numeric(tweets['lat'], downcast=\"float\")\n",
    "    \n",
    "    #Cambiar la zona horaria de UTC a GMT-5\n",
    "    tweets['timestamp'] = pd.to_datetime(tweets['timestamp'], utc = False)\n",
    "    stamp = tweets['timestamp']\n",
    "    #tweets = tweets.set_index('timestamp').dt.tz_convert('America/Mexico_City').reset_index()\n",
    "    tweets = tweets['timestamp'].dt.tz_localize('UTC').dt.tz_convert('America/Mexico_City')\n",
    "    #Almacenar los tweets en el dataframe\n",
    "    tweets_2 = tweets_2.append(tweets, ignore_index = True)\n",
    "    #Guardar los tweets en un archivo CSV\n",
    "    tweets.to_csv('C:/Users/jdroj/Downloads/BigData/TweetsMap/tweets_tampico_madero.csv', mode='a', header=False, index=False)\n"
   ]
  }
 ],
 "metadata": {
  "interpreter": {
   "hash": "945e58ad8f9ac57da3f5e23423768d7db4d570607e4532c49de7038272e59413"
  },
  "kernelspec": {
   "display_name": "Python 3.9.6 64-bit ('env': venv)",
   "name": "python3"
  },
  "language_info": {
   "codemirror_mode": {
    "name": "ipython",
    "version": 3
   },
   "file_extension": ".py",
   "mimetype": "text/x-python",
   "name": "python",
   "nbconvert_exporter": "python",
   "pygments_lexer": "ipython3",
   "version": "3.9.6"
  },
  "orig_nbformat": 4
 },
 "nbformat": 4,
 "nbformat_minor": 2
}
